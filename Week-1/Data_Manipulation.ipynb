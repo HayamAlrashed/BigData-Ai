{
  "nbformat": 4,
  "nbformat_minor": 0,
  "metadata": {
    "colab": {
      "provenance": [],
      "authorship_tag": "ABX9TyP01mUxGGLe/Krr0OAfEPy8",
      "include_colab_link": true
    },
    "kernelspec": {
      "name": "python3",
      "display_name": "Python 3"
    },
    "language_info": {
      "name": "python"
    }
  },
  "cells": [
    {
      "cell_type": "markdown",
      "metadata": {
        "id": "view-in-github",
        "colab_type": "text"
      },
      "source": [
        "<a href=\"https://colab.research.google.com/github/HayamAlrashed/BigData-Ai/blob/main/Data_Manipulation.ipynb\" target=\"_parent\"><img src=\"https://colab.research.google.com/assets/colab-badge.svg\" alt=\"Open In Colab\"/></a>"
      ]
    },
    {
      "cell_type": "code",
      "execution_count": 74,
      "metadata": {
        "id": "HbEThgtAzeWD"
      },
      "outputs": [],
      "source": [
        "import pandas as pd\n",
        "import numpy as np\n",
        "\n",
        "import matplotlib.pyplot as plt\n",
        "import seaborn as sns"
      ]
    },
    {
      "cell_type": "code",
      "source": [
        "data =  pd.read_csv('/content/burritos.csv')\n",
        "data"
      ],
      "metadata": {
        "colab": {
          "base_uri": "https://localhost:8080/",
          "height": 852
        },
        "id": "QYptgiIAzhN7",
        "outputId": "81e454ab-56aa-4be1-f5c3-4b0138ad04b8"
      },
      "execution_count": 75,
      "outputs": [
        {
          "output_type": "execute_result",
          "data": {
            "text/plain": [
              "                     Location        Burrito       Date Neighborhood  \\\n",
              "0          Donato's taco shop    California   1/18/2016      Miramar   \n",
              "1        Oscar's Mexican food    California   1/24/2016   San Marcos   \n",
              "2        Oscar's Mexican food       Carnitas  1/24/2016          NaN   \n",
              "3        Oscar's Mexican food    Carne asada  1/24/2016          NaN   \n",
              "4                Pollos Maria     California  1/27/2016     Carlsbad   \n",
              "..                        ...            ...        ...          ...   \n",
              "418  Valentine's Mexican Food      Al Pastor  8/27/2019          NaN   \n",
              "419  Valentine's Mexican Food  Chile Relleno  8/27/2019          NaN   \n",
              "420  Valentine's Mexican Food     California  8/27/2019          NaN   \n",
              "421  Valentine's Mexican Food         Shrimp  8/27/2019          NaN   \n",
              "422  Valentine's Mexican Food    Pollo Asado  8/27/2019          NaN   \n",
              "\n",
              "                      Address  \\\n",
              "0             6780 Miramar Rd   \n",
              "1    225 S Rancho Santa Fe Rd   \n",
              "2                         NaN   \n",
              "3                         NaN   \n",
              "4             3055 Harding St   \n",
              "..                        ...   \n",
              "418                       NaN   \n",
              "419                       NaN   \n",
              "420                       NaN   \n",
              "421                       NaN   \n",
              "422                       NaN   \n",
              "\n",
              "                                                   URL  Yelp  Google Chips  \\\n",
              "0                          http://donatostacoshop.net/   3.5     4.2   NaN   \n",
              "1    http://www.yelp.com/biz/oscars-mexican-food-sa...   3.5     3.3   NaN   \n",
              "2                                                  NaN   NaN     NaN   NaN   \n",
              "3                                                  NaN   NaN     NaN   NaN   \n",
              "4                              http://pollosmaria.com/   4.0     3.8     x   \n",
              "..                                                 ...   ...     ...   ...   \n",
              "418                                                NaN   NaN     NaN   NaN   \n",
              "419                                                NaN   NaN     NaN   NaN   \n",
              "420                                                NaN   NaN     NaN   NaN   \n",
              "421                                                NaN   NaN     NaN   NaN   \n",
              "422                                                NaN   NaN     NaN   NaN   \n",
              "\n",
              "     Cost  ...  Nopales  Lobster  Queso  Egg  Mushroom  Bacon  Sushi  Avocado  \\\n",
              "0    6.49  ...      NaN      NaN    NaN  NaN       NaN    NaN    NaN      NaN   \n",
              "1    5.45  ...      NaN      NaN    NaN  NaN       NaN    NaN    NaN      NaN   \n",
              "2    4.85  ...      NaN      NaN    NaN  NaN       NaN    NaN    NaN      NaN   \n",
              "3    5.25  ...      NaN      NaN    NaN  NaN       NaN    NaN    NaN      NaN   \n",
              "4    6.59  ...      NaN      NaN    NaN  NaN       NaN    NaN    NaN      NaN   \n",
              "..    ...  ...      ...      ...    ...  ...       ...    ...    ...      ...   \n",
              "418  6.00  ...      NaN      NaN    NaN  NaN       NaN    NaN    NaN      NaN   \n",
              "419  6.00  ...      NaN      NaN    NaN  NaN       NaN    NaN    NaN      NaN   \n",
              "420  7.90  ...      NaN      NaN    NaN  NaN       NaN    NaN    NaN      NaN   \n",
              "421  7.90  ...      NaN      NaN    NaN  NaN       NaN    NaN    NaN      NaN   \n",
              "422  5.50  ...      NaN      NaN    NaN  NaN       NaN    NaN    NaN      NaN   \n",
              "\n",
              "     Corn  Zucchini  \n",
              "0     NaN       NaN  \n",
              "1     NaN       NaN  \n",
              "2     NaN       NaN  \n",
              "3     NaN       NaN  \n",
              "4     NaN       NaN  \n",
              "..    ...       ...  \n",
              "418   NaN       NaN  \n",
              "419   NaN       NaN  \n",
              "420   NaN       NaN  \n",
              "421   NaN       NaN  \n",
              "422   NaN       NaN  \n",
              "\n",
              "[423 rows x 66 columns]"
            ],
            "text/html": [
              "\n",
              "  <div id=\"df-4a66df2f-85d7-4d61-87f7-addaa8353761\">\n",
              "    <div class=\"colab-df-container\">\n",
              "      <div>\n",
              "<style scoped>\n",
              "    .dataframe tbody tr th:only-of-type {\n",
              "        vertical-align: middle;\n",
              "    }\n",
              "\n",
              "    .dataframe tbody tr th {\n",
              "        vertical-align: top;\n",
              "    }\n",
              "\n",
              "    .dataframe thead th {\n",
              "        text-align: right;\n",
              "    }\n",
              "</style>\n",
              "<table border=\"1\" class=\"dataframe\">\n",
              "  <thead>\n",
              "    <tr style=\"text-align: right;\">\n",
              "      <th></th>\n",
              "      <th>Location</th>\n",
              "      <th>Burrito</th>\n",
              "      <th>Date</th>\n",
              "      <th>Neighborhood</th>\n",
              "      <th>Address</th>\n",
              "      <th>URL</th>\n",
              "      <th>Yelp</th>\n",
              "      <th>Google</th>\n",
              "      <th>Chips</th>\n",
              "      <th>Cost</th>\n",
              "      <th>...</th>\n",
              "      <th>Nopales</th>\n",
              "      <th>Lobster</th>\n",
              "      <th>Queso</th>\n",
              "      <th>Egg</th>\n",
              "      <th>Mushroom</th>\n",
              "      <th>Bacon</th>\n",
              "      <th>Sushi</th>\n",
              "      <th>Avocado</th>\n",
              "      <th>Corn</th>\n",
              "      <th>Zucchini</th>\n",
              "    </tr>\n",
              "  </thead>\n",
              "  <tbody>\n",
              "    <tr>\n",
              "      <th>0</th>\n",
              "      <td>Donato's taco shop</td>\n",
              "      <td>California</td>\n",
              "      <td>1/18/2016</td>\n",
              "      <td>Miramar</td>\n",
              "      <td>6780 Miramar Rd</td>\n",
              "      <td>http://donatostacoshop.net/</td>\n",
              "      <td>3.5</td>\n",
              "      <td>4.2</td>\n",
              "      <td>NaN</td>\n",
              "      <td>6.49</td>\n",
              "      <td>...</td>\n",
              "      <td>NaN</td>\n",
              "      <td>NaN</td>\n",
              "      <td>NaN</td>\n",
              "      <td>NaN</td>\n",
              "      <td>NaN</td>\n",
              "      <td>NaN</td>\n",
              "      <td>NaN</td>\n",
              "      <td>NaN</td>\n",
              "      <td>NaN</td>\n",
              "      <td>NaN</td>\n",
              "    </tr>\n",
              "    <tr>\n",
              "      <th>1</th>\n",
              "      <td>Oscar's Mexican food</td>\n",
              "      <td>California</td>\n",
              "      <td>1/24/2016</td>\n",
              "      <td>San Marcos</td>\n",
              "      <td>225 S Rancho Santa Fe Rd</td>\n",
              "      <td>http://www.yelp.com/biz/oscars-mexican-food-sa...</td>\n",
              "      <td>3.5</td>\n",
              "      <td>3.3</td>\n",
              "      <td>NaN</td>\n",
              "      <td>5.45</td>\n",
              "      <td>...</td>\n",
              "      <td>NaN</td>\n",
              "      <td>NaN</td>\n",
              "      <td>NaN</td>\n",
              "      <td>NaN</td>\n",
              "      <td>NaN</td>\n",
              "      <td>NaN</td>\n",
              "      <td>NaN</td>\n",
              "      <td>NaN</td>\n",
              "      <td>NaN</td>\n",
              "      <td>NaN</td>\n",
              "    </tr>\n",
              "    <tr>\n",
              "      <th>2</th>\n",
              "      <td>Oscar's Mexican food</td>\n",
              "      <td>Carnitas</td>\n",
              "      <td>1/24/2016</td>\n",
              "      <td>NaN</td>\n",
              "      <td>NaN</td>\n",
              "      <td>NaN</td>\n",
              "      <td>NaN</td>\n",
              "      <td>NaN</td>\n",
              "      <td>NaN</td>\n",
              "      <td>4.85</td>\n",
              "      <td>...</td>\n",
              "      <td>NaN</td>\n",
              "      <td>NaN</td>\n",
              "      <td>NaN</td>\n",
              "      <td>NaN</td>\n",
              "      <td>NaN</td>\n",
              "      <td>NaN</td>\n",
              "      <td>NaN</td>\n",
              "      <td>NaN</td>\n",
              "      <td>NaN</td>\n",
              "      <td>NaN</td>\n",
              "    </tr>\n",
              "    <tr>\n",
              "      <th>3</th>\n",
              "      <td>Oscar's Mexican food</td>\n",
              "      <td>Carne asada</td>\n",
              "      <td>1/24/2016</td>\n",
              "      <td>NaN</td>\n",
              "      <td>NaN</td>\n",
              "      <td>NaN</td>\n",
              "      <td>NaN</td>\n",
              "      <td>NaN</td>\n",
              "      <td>NaN</td>\n",
              "      <td>5.25</td>\n",
              "      <td>...</td>\n",
              "      <td>NaN</td>\n",
              "      <td>NaN</td>\n",
              "      <td>NaN</td>\n",
              "      <td>NaN</td>\n",
              "      <td>NaN</td>\n",
              "      <td>NaN</td>\n",
              "      <td>NaN</td>\n",
              "      <td>NaN</td>\n",
              "      <td>NaN</td>\n",
              "      <td>NaN</td>\n",
              "    </tr>\n",
              "    <tr>\n",
              "      <th>4</th>\n",
              "      <td>Pollos Maria</td>\n",
              "      <td>California</td>\n",
              "      <td>1/27/2016</td>\n",
              "      <td>Carlsbad</td>\n",
              "      <td>3055 Harding St</td>\n",
              "      <td>http://pollosmaria.com/</td>\n",
              "      <td>4.0</td>\n",
              "      <td>3.8</td>\n",
              "      <td>x</td>\n",
              "      <td>6.59</td>\n",
              "      <td>...</td>\n",
              "      <td>NaN</td>\n",
              "      <td>NaN</td>\n",
              "      <td>NaN</td>\n",
              "      <td>NaN</td>\n",
              "      <td>NaN</td>\n",
              "      <td>NaN</td>\n",
              "      <td>NaN</td>\n",
              "      <td>NaN</td>\n",
              "      <td>NaN</td>\n",
              "      <td>NaN</td>\n",
              "    </tr>\n",
              "    <tr>\n",
              "      <th>...</th>\n",
              "      <td>...</td>\n",
              "      <td>...</td>\n",
              "      <td>...</td>\n",
              "      <td>...</td>\n",
              "      <td>...</td>\n",
              "      <td>...</td>\n",
              "      <td>...</td>\n",
              "      <td>...</td>\n",
              "      <td>...</td>\n",
              "      <td>...</td>\n",
              "      <td>...</td>\n",
              "      <td>...</td>\n",
              "      <td>...</td>\n",
              "      <td>...</td>\n",
              "      <td>...</td>\n",
              "      <td>...</td>\n",
              "      <td>...</td>\n",
              "      <td>...</td>\n",
              "      <td>...</td>\n",
              "      <td>...</td>\n",
              "      <td>...</td>\n",
              "    </tr>\n",
              "    <tr>\n",
              "      <th>418</th>\n",
              "      <td>Valentine's Mexican Food</td>\n",
              "      <td>Al Pastor</td>\n",
              "      <td>8/27/2019</td>\n",
              "      <td>NaN</td>\n",
              "      <td>NaN</td>\n",
              "      <td>NaN</td>\n",
              "      <td>NaN</td>\n",
              "      <td>NaN</td>\n",
              "      <td>NaN</td>\n",
              "      <td>6.00</td>\n",
              "      <td>...</td>\n",
              "      <td>NaN</td>\n",
              "      <td>NaN</td>\n",
              "      <td>NaN</td>\n",
              "      <td>NaN</td>\n",
              "      <td>NaN</td>\n",
              "      <td>NaN</td>\n",
              "      <td>NaN</td>\n",
              "      <td>NaN</td>\n",
              "      <td>NaN</td>\n",
              "      <td>NaN</td>\n",
              "    </tr>\n",
              "    <tr>\n",
              "      <th>419</th>\n",
              "      <td>Valentine's Mexican Food</td>\n",
              "      <td>Chile Relleno</td>\n",
              "      <td>8/27/2019</td>\n",
              "      <td>NaN</td>\n",
              "      <td>NaN</td>\n",
              "      <td>NaN</td>\n",
              "      <td>NaN</td>\n",
              "      <td>NaN</td>\n",
              "      <td>NaN</td>\n",
              "      <td>6.00</td>\n",
              "      <td>...</td>\n",
              "      <td>NaN</td>\n",
              "      <td>NaN</td>\n",
              "      <td>NaN</td>\n",
              "      <td>NaN</td>\n",
              "      <td>NaN</td>\n",
              "      <td>NaN</td>\n",
              "      <td>NaN</td>\n",
              "      <td>NaN</td>\n",
              "      <td>NaN</td>\n",
              "      <td>NaN</td>\n",
              "    </tr>\n",
              "    <tr>\n",
              "      <th>420</th>\n",
              "      <td>Valentine's Mexican Food</td>\n",
              "      <td>California</td>\n",
              "      <td>8/27/2019</td>\n",
              "      <td>NaN</td>\n",
              "      <td>NaN</td>\n",
              "      <td>NaN</td>\n",
              "      <td>NaN</td>\n",
              "      <td>NaN</td>\n",
              "      <td>NaN</td>\n",
              "      <td>7.90</td>\n",
              "      <td>...</td>\n",
              "      <td>NaN</td>\n",
              "      <td>NaN</td>\n",
              "      <td>NaN</td>\n",
              "      <td>NaN</td>\n",
              "      <td>NaN</td>\n",
              "      <td>NaN</td>\n",
              "      <td>NaN</td>\n",
              "      <td>NaN</td>\n",
              "      <td>NaN</td>\n",
              "      <td>NaN</td>\n",
              "    </tr>\n",
              "    <tr>\n",
              "      <th>421</th>\n",
              "      <td>Valentine's Mexican Food</td>\n",
              "      <td>Shrimp</td>\n",
              "      <td>8/27/2019</td>\n",
              "      <td>NaN</td>\n",
              "      <td>NaN</td>\n",
              "      <td>NaN</td>\n",
              "      <td>NaN</td>\n",
              "      <td>NaN</td>\n",
              "      <td>NaN</td>\n",
              "      <td>7.90</td>\n",
              "      <td>...</td>\n",
              "      <td>NaN</td>\n",
              "      <td>NaN</td>\n",
              "      <td>NaN</td>\n",
              "      <td>NaN</td>\n",
              "      <td>NaN</td>\n",
              "      <td>NaN</td>\n",
              "      <td>NaN</td>\n",
              "      <td>NaN</td>\n",
              "      <td>NaN</td>\n",
              "      <td>NaN</td>\n",
              "    </tr>\n",
              "    <tr>\n",
              "      <th>422</th>\n",
              "      <td>Valentine's Mexican Food</td>\n",
              "      <td>Pollo Asado</td>\n",
              "      <td>8/27/2019</td>\n",
              "      <td>NaN</td>\n",
              "      <td>NaN</td>\n",
              "      <td>NaN</td>\n",
              "      <td>NaN</td>\n",
              "      <td>NaN</td>\n",
              "      <td>NaN</td>\n",
              "      <td>5.50</td>\n",
              "      <td>...</td>\n",
              "      <td>NaN</td>\n",
              "      <td>NaN</td>\n",
              "      <td>NaN</td>\n",
              "      <td>NaN</td>\n",
              "      <td>NaN</td>\n",
              "      <td>NaN</td>\n",
              "      <td>NaN</td>\n",
              "      <td>NaN</td>\n",
              "      <td>NaN</td>\n",
              "      <td>NaN</td>\n",
              "    </tr>\n",
              "  </tbody>\n",
              "</table>\n",
              "<p>423 rows × 66 columns</p>\n",
              "</div>\n",
              "      <button class=\"colab-df-convert\" onclick=\"convertToInteractive('df-4a66df2f-85d7-4d61-87f7-addaa8353761')\"\n",
              "              title=\"Convert this dataframe to an interactive table.\"\n",
              "              style=\"display:none;\">\n",
              "        \n",
              "  <svg xmlns=\"http://www.w3.org/2000/svg\" height=\"24px\"viewBox=\"0 0 24 24\"\n",
              "       width=\"24px\">\n",
              "    <path d=\"M0 0h24v24H0V0z\" fill=\"none\"/>\n",
              "    <path d=\"M18.56 5.44l.94 2.06.94-2.06 2.06-.94-2.06-.94-.94-2.06-.94 2.06-2.06.94zm-11 1L8.5 8.5l.94-2.06 2.06-.94-2.06-.94L8.5 2.5l-.94 2.06-2.06.94zm10 10l.94 2.06.94-2.06 2.06-.94-2.06-.94-.94-2.06-.94 2.06-2.06.94z\"/><path d=\"M17.41 7.96l-1.37-1.37c-.4-.4-.92-.59-1.43-.59-.52 0-1.04.2-1.43.59L10.3 9.45l-7.72 7.72c-.78.78-.78 2.05 0 2.83L4 21.41c.39.39.9.59 1.41.59.51 0 1.02-.2 1.41-.59l7.78-7.78 2.81-2.81c.8-.78.8-2.07 0-2.86zM5.41 20L4 18.59l7.72-7.72 1.47 1.35L5.41 20z\"/>\n",
              "  </svg>\n",
              "      </button>\n",
              "      \n",
              "  <style>\n",
              "    .colab-df-container {\n",
              "      display:flex;\n",
              "      flex-wrap:wrap;\n",
              "      gap: 12px;\n",
              "    }\n",
              "\n",
              "    .colab-df-convert {\n",
              "      background-color: #E8F0FE;\n",
              "      border: none;\n",
              "      border-radius: 50%;\n",
              "      cursor: pointer;\n",
              "      display: none;\n",
              "      fill: #1967D2;\n",
              "      height: 32px;\n",
              "      padding: 0 0 0 0;\n",
              "      width: 32px;\n",
              "    }\n",
              "\n",
              "    .colab-df-convert:hover {\n",
              "      background-color: #E2EBFA;\n",
              "      box-shadow: 0px 1px 2px rgba(60, 64, 67, 0.3), 0px 1px 3px 1px rgba(60, 64, 67, 0.15);\n",
              "      fill: #174EA6;\n",
              "    }\n",
              "\n",
              "    [theme=dark] .colab-df-convert {\n",
              "      background-color: #3B4455;\n",
              "      fill: #D2E3FC;\n",
              "    }\n",
              "\n",
              "    [theme=dark] .colab-df-convert:hover {\n",
              "      background-color: #434B5C;\n",
              "      box-shadow: 0px 1px 3px 1px rgba(0, 0, 0, 0.15);\n",
              "      filter: drop-shadow(0px 1px 2px rgba(0, 0, 0, 0.3));\n",
              "      fill: #FFFFFF;\n",
              "    }\n",
              "  </style>\n",
              "\n",
              "      <script>\n",
              "        const buttonEl =\n",
              "          document.querySelector('#df-4a66df2f-85d7-4d61-87f7-addaa8353761 button.colab-df-convert');\n",
              "        buttonEl.style.display =\n",
              "          google.colab.kernel.accessAllowed ? 'block' : 'none';\n",
              "\n",
              "        async function convertToInteractive(key) {\n",
              "          const element = document.querySelector('#df-4a66df2f-85d7-4d61-87f7-addaa8353761');\n",
              "          const dataTable =\n",
              "            await google.colab.kernel.invokeFunction('convertToInteractive',\n",
              "                                                     [key], {});\n",
              "          if (!dataTable) return;\n",
              "\n",
              "          const docLinkHtml = 'Like what you see? Visit the ' +\n",
              "            '<a target=\"_blank\" href=https://colab.research.google.com/notebooks/data_table.ipynb>data table notebook</a>'\n",
              "            + ' to learn more about interactive tables.';\n",
              "          element.innerHTML = '';\n",
              "          dataTable['output_type'] = 'display_data';\n",
              "          await google.colab.output.renderOutput(dataTable, element);\n",
              "          const docLink = document.createElement('div');\n",
              "          docLink.innerHTML = docLinkHtml;\n",
              "          element.appendChild(docLink);\n",
              "        }\n",
              "      </script>\n",
              "    </div>\n",
              "  </div>\n",
              "  "
            ]
          },
          "metadata": {},
          "execution_count": 75
        }
      ]
    },
    {
      "cell_type": "code",
      "source": [
        "# data has 432 rows + 66 columns\n",
        "data.info()"
      ],
      "metadata": {
        "colab": {
          "base_uri": "https://localhost:8080/"
        },
        "id": "x0OtX9t30Bha",
        "outputId": "4cbd2f9e-197d-4f0d-9f97-d584ed273188"
      },
      "execution_count": 6,
      "outputs": [
        {
          "output_type": "stream",
          "name": "stdout",
          "text": [
            "<class 'pandas.core.frame.DataFrame'>\n",
            "RangeIndex: 423 entries, 0 to 422\n",
            "Data columns (total 66 columns):\n",
            " #   Column          Non-Null Count  Dtype  \n",
            "---  ------          --------------  -----  \n",
            " 0   Location        423 non-null    object \n",
            " 1   Burrito         423 non-null    object \n",
            " 2   Date            423 non-null    object \n",
            " 3   Neighborhood    92 non-null     object \n",
            " 4   Address         88 non-null     object \n",
            " 5   URL             87 non-null     object \n",
            " 6   Yelp            87 non-null     float64\n",
            " 7   Google          87 non-null     float64\n",
            " 8   Chips           26 non-null     object \n",
            " 9   Cost            416 non-null    float64\n",
            " 10  Hunger          420 non-null    float64\n",
            " 11  Mass (g)        22 non-null     float64\n",
            " 12  Density (g/mL)  22 non-null     float64\n",
            " 13  Length          284 non-null    float64\n",
            " 14  Circum          282 non-null    float64\n",
            " 15  Volume          282 non-null    float64\n",
            " 16  Tortilla        423 non-null    float64\n",
            " 17  Temp            403 non-null    float64\n",
            " 18  Meat            409 non-null    float64\n",
            " 19  Fillings        420 non-null    float64\n",
            " 20  Meat:filling    414 non-null    float64\n",
            " 21  Uniformity      421 non-null    float64\n",
            " 22  Salsa           398 non-null    float64\n",
            " 23  Synergy         421 non-null    float64\n",
            " 24  Wrap            420 non-null    float64\n",
            " 25  overall         421 non-null    float64\n",
            " 26  Rec             233 non-null    object \n",
            " 27  Reviewer        422 non-null    object \n",
            " 28  Notes           146 non-null    object \n",
            " 29  Unreliable      33 non-null     object \n",
            " 30  NonSD           7 non-null      object \n",
            " 31  Beef            180 non-null    object \n",
            " 32  Pico            159 non-null    object \n",
            " 33  Guac            155 non-null    object \n",
            " 34  Cheese          160 non-null    object \n",
            " 35  Fries           128 non-null    object \n",
            " 36  Sour cream      92 non-null     object \n",
            " 37  Pork            51 non-null     object \n",
            " 38  Chicken         21 non-null     object \n",
            " 39  Shrimp          21 non-null     object \n",
            " 40  Fish            6 non-null      object \n",
            " 41  Rice            36 non-null     object \n",
            " 42  Beans           35 non-null     object \n",
            " 43  Lettuce         11 non-null     object \n",
            " 44  Tomato          7 non-null      object \n",
            " 45  Bell peper      7 non-null      object \n",
            " 46  Carrots         1 non-null      object \n",
            " 47  Cabbage         8 non-null      object \n",
            " 48  Sauce           38 non-null     object \n",
            " 49  Salsa.1         7 non-null      object \n",
            " 50  Cilantro        15 non-null     object \n",
            " 51  Onion           17 non-null     object \n",
            " 52  Taquito         4 non-null      object \n",
            " 53  Pineapple       7 non-null      object \n",
            " 54  Ham             2 non-null      object \n",
            " 55  Chile relleno   4 non-null      object \n",
            " 56  Nopales         4 non-null      object \n",
            " 57  Lobster         1 non-null      object \n",
            " 58  Queso           0 non-null      float64\n",
            " 59  Egg             5 non-null      object \n",
            " 60  Mushroom        3 non-null      object \n",
            " 61  Bacon           3 non-null      object \n",
            " 62  Sushi           2 non-null      object \n",
            " 63  Avocado         13 non-null     object \n",
            " 64  Corn            3 non-null      object \n",
            " 65  Zucchini        1 non-null      object \n",
            "dtypes: float64(20), object(46)\n",
            "memory usage: 218.2+ KB\n"
          ]
        }
      ]
    },
    {
      "cell_type": "code",
      "source": [
        "#2 Determine how many missing values are present in each column\n",
        "data.isna().sum().sum()"
      ],
      "metadata": {
        "colab": {
          "base_uri": "https://localhost:8080/"
        },
        "id": "NqEofbj158fg",
        "outputId": "0ba4ee0c-6faf-4010-9c54-e2b5984b2c24"
      },
      "execution_count": 77,
      "outputs": [
        {
          "output_type": "execute_result",
          "data": {
            "text/plain": [
              "18256"
            ]
          },
          "metadata": {},
          "execution_count": 77
        }
      ]
    },
    {
      "cell_type": "code",
      "source": [
        "data.count().sum()"
      ],
      "metadata": {
        "colab": {
          "base_uri": "https://localhost:8080/"
        },
        "id": "zcka7Pml7jLz",
        "outputId": "5ee4b6f9-12f6-436e-d913-7346a7bc461f"
      },
      "execution_count": 80,
      "outputs": [
        {
          "output_type": "execute_result",
          "data": {
            "text/plain": [
              "9662"
            ]
          },
          "metadata": {},
          "execution_count": 80
        }
      ]
    },
    {
      "cell_type": "code",
      "source": [
        "#3 Determine the total amount of missing values\n",
        "# all data are = 27918 \n",
        "# and null data = 18256 \n",
        "# 65% from the dataset are null\\missing values "
      ],
      "metadata": {
        "id": "dByfdthY76Kj"
      },
      "execution_count": null,
      "outputs": []
    },
    {
      "cell_type": "markdown",
      "source": [
        "# MEAN"
      ],
      "metadata": {
        "id": "pQVVORN18k7D"
      }
    },
    {
      "cell_type": "code",
      "source": [
        "# Cost has 419 non null => 423-416 = only 7 nulls lests fix it by mean\n",
        "# shown data befor fix it\n",
        "plt.hist(data['Cost'])\n",
        "plt.xlabel(\"COST\")\n",
        "plt.ylabel(\"COUNT\")"
      ],
      "metadata": {
        "colab": {
          "base_uri": "https://localhost:8080/",
          "height": 296
        },
        "id": "be3bUV7hlySJ",
        "outputId": "ba82b53d-1fcf-4456-f737-28ede9d1cafe"
      },
      "execution_count": 20,
      "outputs": [
        {
          "output_type": "execute_result",
          "data": {
            "text/plain": [
              "Text(0, 0.5, 'COUNT')"
            ]
          },
          "metadata": {},
          "execution_count": 20
        },
        {
          "output_type": "display_data",
          "data": {
            "text/plain": [
              "<Figure size 432x288 with 1 Axes>"
            ],
            "image/png": "[encoded data removed]"
          },
          "metadata": {
            "needs_background": "light"
          }
        }
      ]
    },
    {
      "cell_type": "code",
      "source": [
        "data['Cost'] = data['Cost'].fillna(data['Cost'].mean()) "
      ],
      "metadata": {
        "id": "AkvuSnvTsT-Q"
      },
      "execution_count": 25,
      "outputs": []
    },
    {
      "cell_type": "code",
      "source": [
        "# null data check\n",
        "data['Cost'].isna().sum()"
      ],
      "metadata": {
        "colab": {
          "base_uri": "https://localhost:8080/"
        },
        "id": "VBPVJSEUrnOV",
        "outputId": "0fc9f7ab-0d27-4e84-fe5d-05fdf6b8f536"
      },
      "execution_count": 26,
      "outputs": [
        {
          "output_type": "execute_result",
          "data": {
            "text/plain": [
              "0"
            ]
          },
          "metadata": {},
          "execution_count": 26
        }
      ]
    },
    {
      "cell_type": "code",
      "source": [
        "# shown data after fix it\n",
        "plt.hist(data['Cost'])\n",
        "plt.xlabel(\"COST\")\n",
        "plt.ylabel(\"COUNT\")"
      ],
      "metadata": {
        "colab": {
          "base_uri": "https://localhost:8080/",
          "height": 296
        },
        "id": "H6qv0kX5obDr",
        "outputId": "0741766a-6c35-4b6c-bd0d-75c7b7b92b47"
      },
      "execution_count": 27,
      "outputs": [
        {
          "output_type": "execute_result",
          "data": {
            "text/plain": [
              "Text(0, 0.5, 'COUNT')"
            ]
          },
          "metadata": {},
          "execution_count": 27
        },
        {
          "output_type": "display_data",
          "data": {
            "text/plain": [
              "<Figure size 432x288 with 1 Axes>"
            ],
            "image/png": "[encoded data removed]"
          },
          "metadata": {
            "needs_background": "light"
          }
        }
      ]
    },
    {
      "cell_type": "markdown",
      "source": [
        "# median"
      ],
      "metadata": {
        "id": "KEbfJls_-esV"
      }
    },
    {
      "cell_type": "code",
      "source": [
        "# histogram for circum data befor fix by median\n",
        "plt.hist(data['Circum'])\n",
        "plt.xlabel(\"Circum\")\n",
        "plt.ylabel(\"COUNT\")"
      ],
      "metadata": {
        "colab": {
          "base_uri": "https://localhost:8080/",
          "height": 299
        },
        "id": "hBxnLwXhtkri",
        "outputId": "8720b4f8-04cf-40a2-f5a5-7f7db69d184a"
      },
      "execution_count": 29,
      "outputs": [
        {
          "output_type": "execute_result",
          "data": {
            "text/plain": [
              "Text(0, 0.5, 'COUNT')"
            ]
          },
          "metadata": {},
          "execution_count": 29
        },
        {
          "output_type": "display_data",
          "data": {
            "text/plain": [
              "<Figure size 432x288 with 1 Axes>"
            ],
            "image/png": "[encoded data removed]"
          },
          "metadata": {
            "needs_background": "light"
          }
        }
      ]
    },
    {
      "cell_type": "code",
      "source": [
        "data['Circum'].isna().sum()"
      ],
      "metadata": {
        "colab": {
          "base_uri": "https://localhost:8080/"
        },
        "id": "gTtJ38GwuFF7",
        "outputId": "c309cd62-e57c-4db7-8879-1da86b8a286d"
      },
      "execution_count": 31,
      "outputs": [
        {
          "output_type": "execute_result",
          "data": {
            "text/plain": [
              "141"
            ]
          },
          "metadata": {},
          "execution_count": 31
        }
      ]
    },
    {
      "cell_type": "code",
      "source": [
        "data['Circum'] = data['Circum'].fillna(data['Circum'].median()) "
      ],
      "metadata": {
        "id": "_tFKeEP8uHbf"
      },
      "execution_count": 32,
      "outputs": []
    },
    {
      "cell_type": "code",
      "source": [
        "data['Circum'].isna().sum()"
      ],
      "metadata": {
        "colab": {
          "base_uri": "https://localhost:8080/"
        },
        "id": "Gvq4Xb2Oud3n",
        "outputId": "6bc16507-f7df-470a-faea-448cf1bc5b02"
      },
      "execution_count": 33,
      "outputs": [
        {
          "output_type": "execute_result",
          "data": {
            "text/plain": [
              "0"
            ]
          },
          "metadata": {},
          "execution_count": 33
        }
      ]
    },
    {
      "cell_type": "code",
      "source": [
        "# histogram for circum data befor fix by median\n",
        "# alot of change in the plot beacsue the nulls values was 141 from 423 which it alot \n",
        "plt.hist(data['Circum'])\n",
        "plt.xlabel(\"Circum\")\n",
        "plt.ylabel(\"COUNT\")"
      ],
      "metadata": {
        "colab": {
          "base_uri": "https://localhost:8080/",
          "height": 296
        },
        "id": "1e07WlxKugHV",
        "outputId": "ef6979be-9840-4d8c-9c8c-018f46992de3"
      },
      "execution_count": 34,
      "outputs": [
        {
          "output_type": "execute_result",
          "data": {
            "text/plain": [
              "Text(0, 0.5, 'COUNT')"
            ]
          },
          "metadata": {},
          "execution_count": 34
        },
        {
          "output_type": "display_data",
          "data": {
            "text/plain": [
              "<Figure size 432x288 with 1 Axes>"
            ],
            "image/png": "[encoded data removed]"
          },
          "metadata": {
            "needs_background": "light"
          }
        }
      ]
    },
    {
      "cell_type": "markdown",
      "source": [
        "# mode"
      ],
      "metadata": {
        "id": "CmMkgpJc-j-U"
      }
    },
    {
      "cell_type": "code",
      "source": [
        " # Befor fix by mode       \n",
        "plt.hist(data['Volume'])\n",
        "plt.xlabel(\"Volume\")\n",
        "plt.ylabel(\"COUNT\")"
      ],
      "metadata": {
        "colab": {
          "base_uri": "https://localhost:8080/",
          "height": 296
        },
        "id": "wnq-AcqbvjWb",
        "outputId": "a5f214e0-dd49-4ac0-99fd-06e9c7be7579"
      },
      "execution_count": 36,
      "outputs": [
        {
          "output_type": "execute_result",
          "data": {
            "text/plain": [
              "Text(0, 0.5, 'COUNT')"
            ]
          },
          "metadata": {},
          "execution_count": 36
        },
        {
          "output_type": "display_data",
          "data": {
            "text/plain": [
              "<Figure size 432x288 with 1 Axes>"
            ],
            "image/png": "[encoded data removed]"
          },
          "metadata": {
            "needs_background": "light"
          }
        }
      ]
    },
    {
      "cell_type": "code",
      "source": [
        "data['Volume'].isna().sum()"
      ],
      "metadata": {
        "colab": {
          "base_uri": "https://localhost:8080/"
        },
        "id": "Y3LbFZ9DvsA9",
        "outputId": "073b2143-1ba3-415e-e752-d852d39ab23f"
      },
      "execution_count": 37,
      "outputs": [
        {
          "output_type": "execute_result",
          "data": {
            "text/plain": [
              "141"
            ]
          },
          "metadata": {},
          "execution_count": 37
        }
      ]
    },
    {
      "cell_type": "code",
      "source": [
        "data['Volume'].mode()"
      ],
      "metadata": {
        "colab": {
          "base_uri": "https://localhost:8080/"
        },
        "id": "-7sQ2ju-yCEY",
        "outputId": "2e98cf6c-2d75-4993-9b8a-a803515c24de"
      },
      "execution_count": 49,
      "outputs": [
        {
          "output_type": "execute_result",
          "data": {
            "text/plain": [
              "0    0.77\n",
              "dtype: float64"
            ]
          },
          "metadata": {},
          "execution_count": 49
        }
      ]
    },
    {
      "cell_type": "code",
      "source": [
        "data['Volume'] = data['Volume'].fillna(0.77) "
      ],
      "metadata": {
        "id": "TXOpOk7ivwGS"
      },
      "execution_count": 50,
      "outputs": []
    },
    {
      "cell_type": "code",
      "source": [
        "data['Volume'].isnull().sum()"
      ],
      "metadata": {
        "colab": {
          "base_uri": "https://localhost:8080/"
        },
        "id": "cDs1-eh1v4kO",
        "outputId": "a90c416a-d30f-443b-bce3-e9732e546129"
      },
      "execution_count": 52,
      "outputs": [
        {
          "output_type": "execute_result",
          "data": {
            "text/plain": [
              "0"
            ]
          },
          "metadata": {},
          "execution_count": 52
        }
      ]
    },
    {
      "cell_type": "code",
      "source": [
        "# After fix by mode      \n",
        "plt.hist(data['Volume'])\n",
        "plt.xlabel(\"Volume\")\n",
        "plt.ylabel(\"COUNT\")"
      ],
      "metadata": {
        "colab": {
          "base_uri": "https://localhost:8080/",
          "height": 296
        },
        "id": "Db84M3CIyNsD",
        "outputId": "5ad69aa4-f276-4c47-e283-9feb1ac75f3f"
      },
      "execution_count": 53,
      "outputs": [
        {
          "output_type": "execute_result",
          "data": {
            "text/plain": [
              "Text(0, 0.5, 'COUNT')"
            ]
          },
          "metadata": {},
          "execution_count": 53
        },
        {
          "output_type": "display_data",
          "data": {
            "text/plain": [
              "<Figure size 432x288 with 1 Axes>"
            ],
            "image/png": "[encoded data removed]"
          },
          "metadata": {
            "needs_background": "light"
          }
        }
      ]
    },
    {
      "cell_type": "markdown",
      "source": [
        "# own value"
      ],
      "metadata": {
        "id": "AAdF9jxs-yoF"
      }
    },
    {
      "cell_type": "code",
      "source": [
        "plt.hist(data['Salsa'])\n",
        "plt.xlabel(\"Salsa\")\n",
        "plt.ylabel(\"COUNT\")"
      ],
      "metadata": {
        "colab": {
          "base_uri": "https://localhost:8080/",
          "height": 296
        },
        "id": "1_KDNpWtycnf",
        "outputId": "0620c115-cbe8-4c94-b20c-7cab1d52d8b3"
      },
      "execution_count": 55,
      "outputs": [
        {
          "output_type": "execute_result",
          "data": {
            "text/plain": [
              "Text(0, 0.5, 'COUNT')"
            ]
          },
          "metadata": {},
          "execution_count": 55
        },
        {
          "output_type": "display_data",
          "data": {
            "text/plain": [
              "<Figure size 432x288 with 1 Axes>"
            ],
            "image/png": "[encoded data removed]"
          },
          "metadata": {
            "needs_background": "light"
          }
        }
      ]
    },
    {
      "cell_type": "code",
      "source": [
        "data['Salsa'].isnull().sum()"
      ],
      "metadata": {
        "colab": {
          "base_uri": "https://localhost:8080/"
        },
        "id": "c_XCTANmzd2R",
        "outputId": "431559b5-46e1-4cfd-e37c-09fc1c230247"
      },
      "execution_count": 56,
      "outputs": [
        {
          "output_type": "execute_result",
          "data": {
            "text/plain": [
              "25"
            ]
          },
          "metadata": {},
          "execution_count": 56
        }
      ]
    },
    {
      "cell_type": "code",
      "source": [
        "data['Salsa'] = data['Salsa'].fillna(0) "
      ],
      "metadata": {
        "id": "hmrDNZlEzxFA"
      },
      "execution_count": 57,
      "outputs": []
    },
    {
      "cell_type": "code",
      "source": [
        "data['Salsa'].isnull().sum()"
      ],
      "metadata": {
        "colab": {
          "base_uri": "https://localhost:8080/"
        },
        "id": "Qm4u3CRfz4Y1",
        "outputId": "68b9d610-a4e0-4103-f30c-c90a34299143"
      },
      "execution_count": 58,
      "outputs": [
        {
          "output_type": "execute_result",
          "data": {
            "text/plain": [
              "0"
            ]
          },
          "metadata": {},
          "execution_count": 58
        }
      ]
    },
    {
      "cell_type": "code",
      "source": [
        "plt.hist(data['Salsa'])\n",
        "plt.xlabel(\"Salsa\")\n",
        "plt.ylabel(\"COUNT\")"
      ],
      "metadata": {
        "colab": {
          "base_uri": "https://localhost:8080/",
          "height": 296
        },
        "id": "WnkmzCIpz6q5",
        "outputId": "6965ec60-a741-46cb-98dc-2c328d5770ce"
      },
      "execution_count": 59,
      "outputs": [
        {
          "output_type": "execute_result",
          "data": {
            "text/plain": [
              "Text(0, 0.5, 'COUNT')"
            ]
          },
          "metadata": {},
          "execution_count": 59
        },
        {
          "output_type": "display_data",
          "data": {
            "text/plain": [
              "<Figure size 432x288 with 1 Axes>"
            ],
            "image/png": "[encoded data removed]"
          },
          "metadata": {
            "needs_background": "light"
          }
        }
      ]
    },
    {
      "cell_type": "markdown",
      "source": [
        "# forwards filling"
      ],
      "metadata": {
        "id": "UjiPCewC-4tz"
      }
    },
    {
      "cell_type": "code",
      "source": [
        "plt.hist(data['Google'])\n",
        "plt.xlabel(\"Google\")\n",
        "plt.ylabel(\"COUNT\")         "
      ],
      "metadata": {
        "colab": {
          "base_uri": "https://localhost:8080/",
          "height": 296
        },
        "id": "7sqWXzDJ1A3f",
        "outputId": "0e3e69b1-10bf-4dbf-86b0-9d8933023774"
      },
      "execution_count": 64,
      "outputs": [
        {
          "output_type": "execute_result",
          "data": {
            "text/plain": [
              "Text(0, 0.5, 'COUNT')"
            ]
          },
          "metadata": {},
          "execution_count": 64
        },
        {
          "output_type": "display_data",
          "data": {
            "text/plain": [
              "<Figure size 432x288 with 1 Axes>"
            ],
            "image/png": "[encoded data removed]"
          },
          "metadata": {
            "needs_background": "light"
          }
        }
      ]
    },
    {
      "cell_type": "code",
      "source": [
        "data['Google'].isnull().sum()"
      ],
      "metadata": {
        "colab": {
          "base_uri": "https://localhost:8080/"
        },
        "id": "1xSXfbyM1xm9",
        "outputId": "6116ac0d-4f11-4bf0-d22b-ecf9980f68df"
      },
      "execution_count": 65,
      "outputs": [
        {
          "output_type": "execute_result",
          "data": {
            "text/plain": [
              "336"
            ]
          },
          "metadata": {},
          "execution_count": 65
        }
      ]
    },
    {
      "cell_type": "code",
      "source": [
        "data['Google']= data['Google'].ffill()\n",
        "# check null agine\n",
        "data['Google'].isnull().sum()"
      ],
      "metadata": {
        "colab": {
          "base_uri": "https://localhost:8080/"
        },
        "id": "OGQXbUDf11qv",
        "outputId": "2f3f4ccb-9612-462e-d5b7-3fba4722aae2"
      },
      "execution_count": 68,
      "outputs": [
        {
          "output_type": "execute_result",
          "data": {
            "text/plain": [
              "0"
            ]
          },
          "metadata": {},
          "execution_count": 68
        }
      ]
    },
    {
      "cell_type": "code",
      "source": [
        "plt.hist(data['Google'])\n",
        "plt.xlabel(\"Google\")\n",
        "plt.ylabel(\"COUNT\")  "
      ],
      "metadata": {
        "colab": {
          "base_uri": "https://localhost:8080/",
          "height": 296
        },
        "id": "7291OZJK2T1H",
        "outputId": "bd809609-b4cb-4f78-b9b2-45334aa2d6c2"
      },
      "execution_count": 69,
      "outputs": [
        {
          "output_type": "execute_result",
          "data": {
            "text/plain": [
              "Text(0, 0.5, 'COUNT')"
            ]
          },
          "metadata": {},
          "execution_count": 69
        },
        {
          "output_type": "display_data",
          "data": {
            "text/plain": [
              "<Figure size 432x288 with 1 Axes>"
            ],
            "image/png": "[encoded data removed]"
          },
          "metadata": {
            "needs_background": "light"
          }
        }
      ]
    },
    {
      "cell_type": "markdown",
      "source": [
        " # backward filling"
      ],
      "metadata": {
        "id": "TIULY9pJ_Ae9"
      }
    },
    {
      "cell_type": "code",
      "source": [
        "plt.hist(data['Length'])\n",
        "plt.xlabel(\"Length\")\n",
        "plt.ylabel(\"COUNT\") "
      ],
      "metadata": {
        "colab": {
          "base_uri": "https://localhost:8080/",
          "height": 296
        },
        "id": "SCWWlScn2XkS",
        "outputId": "35762454-4af8-4a39-8324-d91936f1413f"
      },
      "execution_count": 70,
      "outputs": [
        {
          "output_type": "execute_result",
          "data": {
            "text/plain": [
              "Text(0, 0.5, 'COUNT')"
            ]
          },
          "metadata": {},
          "execution_count": 70
        },
        {
          "output_type": "display_data",
          "data": {
            "text/plain": [
              "<Figure size 432x288 with 1 Axes>"
            ],
            "image/png": "[encoded data removed]"
          },
          "metadata": {
            "needs_background": "light"
          }
        }
      ]
    },
    {
      "cell_type": "code",
      "source": [
        "data['Length'].isnull().sum()"
      ],
      "metadata": {
        "colab": {
          "base_uri": "https://localhost:8080/"
        },
        "id": "Bwh7QaUx2pKp",
        "outputId": "b2242234-3d34-471f-8b06-0a334599b9cc"
      },
      "execution_count": 71,
      "outputs": [
        {
          "output_type": "execute_result",
          "data": {
            "text/plain": [
              "139"
            ]
          },
          "metadata": {},
          "execution_count": 71
        }
      ]
    },
    {
      "cell_type": "code",
      "source": [
        "data['Length']= data['Length'].bfill()\n",
        "# check null agine\n",
        "data['Length'].isnull().sum()"
      ],
      "metadata": {
        "colab": {
          "base_uri": "https://localhost:8080/"
        },
        "id": "lWCQvElv2FpI",
        "outputId": "c6535683-0adc-4b37-9518-8d29652bb108"
      },
      "execution_count": 72,
      "outputs": [
        {
          "output_type": "execute_result",
          "data": {
            "text/plain": [
              "0"
            ]
          },
          "metadata": {},
          "execution_count": 72
        }
      ]
    },
    {
      "cell_type": "code",
      "source": [
        "plt.hist(data['Length'])\n",
        "plt.xlabel(\"Length\")\n",
        "plt.ylabel(\"COUNT\") "
      ],
      "metadata": {
        "colab": {
          "base_uri": "https://localhost:8080/",
          "height": 296
        },
        "id": "-x6z-8f220mZ",
        "outputId": "7ea371b8-3200-4650-9980-02aa115e101d"
      },
      "execution_count": 73,
      "outputs": [
        {
          "output_type": "execute_result",
          "data": {
            "text/plain": [
              "Text(0, 0.5, 'COUNT')"
            ]
          },
          "metadata": {},
          "execution_count": 73
        },
        {
          "output_type": "display_data",
          "data": {
            "text/plain": [
              "<Figure size 432x288 with 1 Axes>"
            ],
            "image/png": "[encoded data removed]"
          },
          "metadata": {
            "needs_background": "light"
          }
        }
      ]
    }
  ]
}