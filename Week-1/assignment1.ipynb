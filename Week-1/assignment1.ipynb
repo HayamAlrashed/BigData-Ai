{
  "nbformat": 4,
  "nbformat_minor": 0,
  "metadata": {
    "colab": {
      "provenance": [],
      "collapsed_sections": [],
      "authorship_tag": "ABX9TyPmuk33Br5gQrSfvxe9adk7",
      "include_colab_link": true
    },
    "kernelspec": {
      "name": "python3",
      "display_name": "Python 3"
    },
    "language_info": {
      "name": "python"
    }
  },
  "cells": [
    {
      "cell_type": "markdown",
      "metadata": {
        "id": "view-in-github",
        "colab_type": "text"
      },
      "source": [
        "<a href=\"https://colab.research.google.com/github/HayamAlrashed/BigData-Ai/blob/main/assignment1.ipynb\" target=\"_parent\"><img src=\"https://colab.research.google.com/assets/colab-badge.svg\" alt=\"Open In Colab\"/></a>"
      ]
    },
    {
      "cell_type": "code",
      "source": [
        "import pandas as pd\n",
        "import numpy as np"
      ],
      "metadata": {
        "id": "rIm-DtjTa46f"
      },
      "execution_count": null,
      "outputs": []
    },
    {
      "cell_type": "code",
      "source": [
        "# first DB about student in Math Course\n",
        "df = pd.read_csv('/content/student-mat.csv',sep=';')\n",
        "\n",
        "# 2nd DB about Covid 19 COVID-19 Surveillanc\n",
        "df2 = pd.read_csv('/content/Surveillance.csv')\n",
        "\n",
        "# 3rd DB about Gender by Name dataset\n",
        "df3 = pd.read_csv('/content/name_gender_dataset.csv')"
      ],
      "metadata": {
        "id": "0H5Z0-IjbAAG"
      },
      "execution_count": null,
      "outputs": []
    },
    {
      "cell_type": "code",
      "source": [
        "print(df)\n",
        "print(\"******************************\\n******************************\")\n",
        "print(df2)\n",
        "print(\"******************************\\n******************************\")\n",
        "print(df3)"
      ],
      "metadata": {
        "colab": {
          "base_uri": "https://localhost:8080/"
        },
        "id": "rSW3IcR9bDHc",
        "outputId": "86e74ba6-7d63-493a-b718-c30b87e153d4"
      },
      "execution_count": null,
      "outputs": [
        {
          "output_type": "stream",
          "name": "stdout",
          "text": [
            "    school sex  age address famsize Pstatus  Medu  Fedu      Mjob      Fjob  \\\n",
            "0       GP   F   18       U     GT3       A     4     4   at_home   teacher   \n",
            "1       GP   F   17       U     GT3       T     1     1   at_home     other   \n",
            "2       GP   F   15       U     LE3       T     1     1   at_home     other   \n",
            "3       GP   F   15       U     GT3       T     4     2    health  services   \n",
            "4       GP   F   16       U     GT3       T     3     3     other     other   \n",
            "..     ...  ..  ...     ...     ...     ...   ...   ...       ...       ...   \n",
            "390     MS   M   20       U     LE3       A     2     2  services  services   \n",
            "391     MS   M   17       U     LE3       T     3     1  services  services   \n",
            "392     MS   M   21       R     GT3       T     1     1     other     other   \n",
            "393     MS   M   18       R     LE3       T     3     2  services     other   \n",
            "394     MS   M   19       U     LE3       T     1     1     other   at_home   \n",
            "\n",
            "     ... famrel freetime  goout  Dalc  Walc health absences  G1  G2  G3  \n",
            "0    ...      4        3      4     1     1      3        6   5   6   6  \n",
            "1    ...      5        3      3     1     1      3        4   5   5   6  \n",
            "2    ...      4        3      2     2     3      3       10   7   8  10  \n",
            "3    ...      3        2      2     1     1      5        2  15  14  15  \n",
            "4    ...      4        3      2     1     2      5        4   6  10  10  \n",
            "..   ...    ...      ...    ...   ...   ...    ...      ...  ..  ..  ..  \n",
            "390  ...      5        5      4     4     5      4       11   9   9   9  \n",
            "391  ...      2        4      5     3     4      2        3  14  16  16  \n",
            "392  ...      5        5      3     3     3      3        3  10   8   7  \n",
            "393  ...      4        4      1     3     4      5        0  11  12  10  \n",
            "394  ...      3        2      3     3     3      5        5   8   9   9  \n",
            "\n",
            "[395 rows x 33 columns]\n",
            "******************************\n",
            "******************************\n",
            "   A01 A02 A03 A04 A05 A06 A07 Categories\n",
            "0    +   +   +   +   +   -   -        PUS\n",
            "1    +   +   -   +   +   -   -        PUS\n",
            "2    +   +   +   +   -   +   -        PUS\n",
            "3    +   +   -   +   -   +   -        PUS\n",
            "4    +   -   -   -   -   -   +        PUS\n",
            "5    +   +   +   -   -   -   +        PUS\n",
            "6    +   +   -   -   -   -   +        PUS\n",
            "7    +   +   +   +   -   -   -        PUS\n",
            "8    +   -   -   +   +   -   -        PIM\n",
            "9    -   +   -   +   +   -   -        PIM\n",
            "10   +   -   -   +   -   +   -        PIM\n",
            "11   -   +   -   +   -   +   -        PIM\n",
            "12   -   +   -   -   -   -   +        PIM\n",
            "13   -   -   -   -   -   -   +        PWS\n",
            "******************************\n",
            "******************************\n",
            "          Name Gender    Count   Probability\n",
            "0        James      M  5304407  1.451679e-02\n",
            "1         John      M  5260831  1.439753e-02\n",
            "2       Robert      M  4970386  1.360266e-02\n",
            "3      Michael      M  4579950  1.253414e-02\n",
            "4      William      M  4226608  1.156713e-02\n",
            "...        ...    ...      ...           ...\n",
            "39581  Esiquio      M      111  3.037780e-07\n",
            "39582     Fard      M      111  3.037780e-07\n",
            "39583   Gedeon      M      111  3.037780e-07\n",
            "39584  Harbert      M      111  3.037780e-07\n",
            "39585     Ilai      M      111  3.037000e+00\n",
            "\n",
            "[39586 rows x 4 columns]\n"
          ]
        }
      ]
    },
    {
      "cell_type": "code",
      "source": [
        "df.info()"
      ],
      "metadata": {
        "colab": {
          "base_uri": "https://localhost:8080/"
        },
        "id": "3vdB6o39bg0a",
        "outputId": "a8a99ec5-3a2b-4662-9578-c8fb34f946e9"
      },
      "execution_count": null,
      "outputs": [
        {
          "output_type": "stream",
          "name": "stdout",
          "text": [
            "<class 'pandas.core.frame.DataFrame'>\n",
            "RangeIndex: 395 entries, 0 to 394\n",
            "Data columns (total 33 columns):\n",
            " #   Column      Non-Null Count  Dtype \n",
            "---  ------      --------------  ----- \n",
            " 0   school      395 non-null    object\n",
            " 1   sex         395 non-null    object\n",
            " 2   age         395 non-null    int64 \n",
            " 3   address     395 non-null    object\n",
            " 4   famsize     395 non-null    object\n",
            " 5   Pstatus     395 non-null    object\n",
            " 6   Medu        395 non-null    int64 \n",
            " 7   Fedu        395 non-null    int64 \n",
            " 8   Mjob        395 non-null    object\n",
            " 9   Fjob        395 non-null    object\n",
            " 10  reason      395 non-null    object\n",
            " 11  guardian    395 non-null    object\n",
            " 12  traveltime  395 non-null    int64 \n",
            " 13  studytime   395 non-null    int64 \n",
            " 14  failures    395 non-null    int64 \n",
            " 15  schoolsup   395 non-null    object\n",
            " 16  famsup      395 non-null    object\n",
            " 17  paid        395 non-null    object\n",
            " 18  activities  395 non-null    object\n",
            " 19  nursery     395 non-null    object\n",
            " 20  higher      395 non-null    object\n",
            " 21  internet    395 non-null    object\n",
            " 22  romantic    395 non-null    object\n",
            " 23  famrel      395 non-null    int64 \n",
            " 24  freetime    395 non-null    int64 \n",
            " 25  goout       395 non-null    int64 \n",
            " 26  Dalc        395 non-null    int64 \n",
            " 27  Walc        395 non-null    int64 \n",
            " 28  health      395 non-null    int64 \n",
            " 29  absences    395 non-null    int64 \n",
            " 30  G1          395 non-null    int64 \n",
            " 31  G2          395 non-null    int64 \n",
            " 32  G3          395 non-null    int64 \n",
            "dtypes: int64(16), object(17)\n",
            "memory usage: 102.0+ KB\n"
          ]
        }
      ]
    },
    {
      "cell_type": "code",
      "source": [
        "# my data about student in math course >> https://archive.ics.uci.edu/ml/datasets/Student+Performance\n",
        "# it has 33 Attributes\n",
        "#1 school - student's school (binary: 'GP' - Gabriel Pereira or 'MS' - Mousinho da Silveira)\n",
        "#2 sex - student's sex (binary: 'F' - female or 'M' - male)\n",
        "#3 age - student's age (numeric: from 15 to 22)\n",
        "#4 address - student's home address type (binary: 'U' - urban or 'R' - rural)\n",
        "#5 famsize - family size (binary: 'LE3' - less or equal to 3 or 'GT3' - greater than 3)\n",
        "#6 Pstatus - parent's cohabitation status (binary: 'T' - living together or 'A' - apart)\n",
        "#7 Medu - mother's education (numeric: 0 - none, 1 - primary education (4th grade), 2 â€“ 5th to 9th grade, 3 â€“ secondary education or 4 â€“ higher education)\n",
        "#8 Fedu - father's education (numeric: 0 - none, 1 - primary education (4th grade), 2 â€“ 5th to 9th grade, 3 â€“ secondary education or 4 â€“ higher education)\n",
        "#9 Mjob - mother's job (nominal: 'teacher', 'health' care related, civil 'services' (e.g. administrative or police), 'at_home' or 'other')\n",
        "# 10 Fjob - father's job (nominal: 'teacher', 'health' care related, civil 'services' (e.g. administrative or police), 'at_home' or 'other')\n",
        "# 11 reason - reason to choose this school (nominal: close to 'home', school 'reputation', 'course' preference or 'other')\n",
        "# 12 guardian - student's guardian (nominal: 'mother', 'father' or 'other')\n",
        "# 13 traveltime - home to school travel time (numeric: 1 - <15 min., 2 - 15 to 30 min., 3 - 30 min. to 1 hour, or 4 - >1 hour)\n",
        "# 14 studytime - weekly study time (numeric: 1 - <2 hours, 2 - 2 to 5 hours, 3 - 5 to 10 hours, or 4 - >10 hours)\n",
        "# 15 failures - number of past class failures (numeric: n if 1<=n<3, else 4)\n",
        "# 16 schoolsup - extra educational support (binary: yes or no)\n",
        "# 17 famsup - family educational support (binary: yes or no)\n",
        "# 18 paid - extra paid classes within the course subject (Math or Portuguese) (binary: yes or no)\n",
        "# 19 activities - extra-curricular activities (binary: yes or no)\n",
        "# 20 nursery - attended nursery school (binary: yes or no)\n",
        "# 21 higher - wants to take higher education (binary: yes or no)\n",
        "# 22 internet - Internet access at home (binary: yes or no)\n",
        "# 23 romantic - with a romantic relationship (binary: yes or no)\n",
        "# 24 famrel - quality of family relationships (numeric: from 1 - very bad to 5 - excellent)\n",
        "# 25 freetime - free time after school (numeric: from 1 - very low to 5 - very high)\n",
        "# 26 goout - going out with friends (numeric: from 1 - very low to 5 - very high)\n",
        "# 27 Dalc - workday alcohol consumption (numeric: from 1 - very low to 5 - very high)\n",
        "# 28 Walc - weekend alcohol consumption (numeric: from 1 - very low to 5 - very high)\n",
        "# 29 health - current health status (numeric: from 1 - very bad to 5 - very good)\n",
        "# 30 absences - number of school absences (numeric: from 0 to 93)\n",
        "\n",
        "# these grades are related with the course subject:\n",
        "# 31 G1 - first period grade (numeric: from 0 to 20)\n",
        "# 31 G2 - second period grade (numeric: from 0 to 20)\n",
        "# 32 G3 - final grade (numeric: from 0 to 20, output target)\n"
      ],
      "metadata": {
        "id": "UGFCGUc3bk6w"
      },
      "execution_count": null,
      "outputs": []
    },
    {
      "cell_type": "code",
      "source": [],
      "metadata": {
        "id": "cSnc5zTfoLdB"
      },
      "execution_count": null,
      "outputs": []
    }
  ]
}